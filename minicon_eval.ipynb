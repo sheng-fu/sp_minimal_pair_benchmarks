{
 "cells": [
  {
   "cell_type": "code",
   "execution_count": 1,
   "id": "7babe477",
   "metadata": {},
   "outputs": [
    {
     "name": "stderr",
     "output_type": "stream",
     "text": [
      "/usr/local/lib/python3.10/dist-packages/tqdm/auto.py:21: TqdmWarning: IProgress not found. Please update jupyter and ipywidgets. See https://ipywidgets.readthedocs.io/en/stable/user_install.html\n",
      "  from .autonotebook import tqdm as notebook_tqdm\n"
     ]
    }
   ],
   "source": [
    "from minicons import scorer\n",
    "import pandas as pd\n",
    "import json\n",
    "import numpy as np\n",
    "import re\n",
    "import tqdm\n",
    "import os"
   ]
  },
  {
   "cell_type": "code",
   "execution_count": 2,
   "id": "3b26bb26",
   "metadata": {},
   "outputs": [
    {
     "name": "stdout",
     "output_type": "stream",
     "text": [
      "/work/sftwang/babyLM_TW_FR\n"
     ]
    }
   ],
   "source": [
    "cd ../../../work/sftwang/babyLM_TW_FR/"
   ]
  },
  {
   "cell_type": "code",
   "execution_count": 3,
   "id": "c17e3224",
   "metadata": {},
   "outputs": [
    {
     "name": "stdout",
     "output_type": "stream",
     "text": [
      "Complete_LM_base_creation_from_txt.ipynb      \u001b[0m\u001b[01;34mdata_benchmark\u001b[0m/\r\n",
      "Create_txt_files_for_LM_training.ipynb        \u001b[01;34mdata_raw_txt\u001b[0m/\r\n",
      "FineTune_and_Evaluate_on_Benchmarks.ipynb     disfl_1219.csv\r\n",
      "FineTune_and_Evaluate_on_Benchmarks_V2.ipynb  disfl_1219_comma.csv\r\n",
      "FineTune_and_Evaluate_on_Benchmarks_all.py    \u001b[01;34mdisfl_results\u001b[0m/\r\n",
      "FineTune_and_Evaluate_on_Benchmarks_all.sh    \u001b[01;34mdisfl_results_comma\u001b[0m/\r\n",
      "FineTune_and_Evaluate_on_Benchmarks_en.py     \u001b[01;34mdisfl_results_eosbos\u001b[0m/\r\n",
      "FineTune_and_Evaluate_on_Benchmarks_en.sh     \u001b[01;34mdisfl_results_nopause\u001b[0m/\r\n",
      "LM_base_creation_from_txt.ipynb               \u001b[01;34mdisfl_results_strip\u001b[0m/\r\n",
      "LM_base_creation_from_txt_all.sh              \u001b[01;34mfigs\u001b[0m/\r\n",
      "LM_base_creation_from_txt_en.py               fr_full_conv_spbpe_full.model\r\n",
      "LM_base_creation_from_txt_en.sh               fr_full_conv_spbpe_full.vocab\r\n",
      "LM_base_creation_from_txt_spxlm_base.py       grouped_en.sh\r\n",
      "LM_base_creation_from_txt_spxlm_base_V2.py    \u001b[01;34mmodels\u001b[0m/\r\n",
      "README.md                                     \u001b[01;34mresults\u001b[0m/\r\n",
      "analysis_en.ipynb\r\n"
     ]
    }
   ],
   "source": [
    "ls"
   ]
  },
  {
   "cell_type": "code",
   "execution_count": 4,
   "id": "799de6ea",
   "metadata": {},
   "outputs": [
    {
     "data": {
      "text/plain": [
       "['moved_filler_en_1.json',\n",
       " 'moved_filler_en_0.json',\n",
       " 'moved_filler_en_2.json',\n",
       " 'moved_filler_en_3.json',\n",
       " 'moved_filler_en_4.json']"
      ]
     },
     "execution_count": 4,
     "metadata": {},
     "output_type": "execute_result"
    }
   ],
   "source": [
    "models = [\"./models/fr_conv_spbpe_concat\",\n",
    "         \"./models/fr_wiki_spbpe_concat\",\n",
    "         \"./models/fr_mixed_spbpe_concat\",\n",
    "         \"./models/en_spoken_spbpe_concat\",\n",
    "         \"./models/en_wiki_spbpe_concat\",\n",
    "         \"./models/en_babylm_spbpe_concat\",\n",
    "         \"FacebookAI/xlm-roberta-large\",\n",
    "         \"FacebookAI/xlm-roberta-base\"]\n",
    "\n",
    "benchmark_path = './data_benchmark/disfl_linebreak/'\n",
    "benchmarks = [f for f in os.listdir(benchmark_path) if os.path.isfile(os.path.join(benchmark_path, f)) and 'json' in f]\n",
    "benchmarks[:5]"
   ]
  },
  {
   "cell_type": "code",
   "execution_count": 5,
   "id": "f275f4af",
   "metadata": {},
   "outputs": [
    {
     "name": "stderr",
     "output_type": "stream",
     "text": [
      " 75%|███████▌  | 6/8 [15:23<05:11, 155.82s/it]/home/sftwang/.local/lib/python3.10/site-packages/transformers/tokenization_utils_base.py:1617: FutureWarning: `clean_up_tokenization_spaces` was not set. It will be set to `True` by default. This behavior will be deprecated in transformers v4.45, and will be then set to `False` by default. For more details check this issue: https://github.com/huggingface/transformers/issues/31884\n",
      "  warnings.warn(\n",
      "100%|██████████| 8/8 [31:02<00:00, 232.76s/it]\n"
     ]
    }
   ],
   "source": [
    "results_folder = './disfl_results_linebreak/'\n",
    "if not os.path.exists(results_folder):\n",
    "    os.makedirs(results_folder)\n",
    "results = []\n",
    "\n",
    "\n",
    "\n",
    "for ckpt in tqdm.tqdm(models):\n",
    "    mlm_model = scorer.MaskedLMScorer(ckpt, 'cuda')\n",
    "    model_name = re.sub('(\\.|/)+', '_', ckpt)\n",
    "    model_name = re.sub('(_babyLM_TW_FR_models_|_models_|_spbpe_concat|FacebookAI_)', '', model_name)\n",
    "    \n",
    "    model_ea = results_folder + '/' + model_name + '_error_analysis/'\n",
    "    if not os.path.exists(model_ea):\n",
    "        os.makedirs(model_ea)\n",
    "    \n",
    "    for b in benchmarks:\n",
    "        with open(benchmark_path+b, 'r', encoding = 'utf-8') as f:\n",
    "            f = f.read().split('\\n')\n",
    "            data = [json.loads(e) for e in f if e.strip()]\n",
    "            \n",
    "            term = data[0]['linguistics_term']\n",
    "            UID  = data[0]['UID']\n",
    "\n",
    "            scores = []\n",
    "            for i in range(len(data)):\n",
    "                pairs = [data[i]['sentence_good'], data[i]['sentence_bad']]\n",
    "                pairs_scores = mlm_model.conditional_score(['</s>', '</s>'], pairs)\n",
    "                data[i]['sentence_good_prob'] = pairs_scores[0]\n",
    "                data[i]['sentence_bad_prob'] = pairs_scores[1]  \n",
    "                acc = float(pairs_scores[0] > pairs_scores[1])\n",
    "                data[i]['acc'] = acc\n",
    "                scores.append(acc)\n",
    "                \n",
    "            agg = np.mean(scores)\n",
    "            with open(model_ea + b, 'w', encoding='utf-8') as outfile:\n",
    "                for entry in data:\n",
    "                    json.dump(entry, outfile, ensure_ascii=False)\n",
    "                    outfile.write('\\n')          \n",
    "\n",
    "            \n",
    "            out_dict = {'model': model_name, 'file_name': b, \n",
    "                        'linguistics_term': term, 'UID': UID, 'score': agg}\n",
    "            results.append(out_dict)\n",
    "\n",
    "df = pd.DataFrame(results)\n",
    "df.set_index('model')\n",
    "df.to_csv(results_folder + \"disfl_1219_linebreak.csv\")"
   ]
  },
  {
   "cell_type": "code",
   "execution_count": 40,
   "id": "a297670c",
   "metadata": {},
   "outputs": [
    {
     "data": {
      "text/plain": [
       "[{'model': 'fr_conv',\n",
       "  'file_name': 'replaced_filler_en',\n",
       "  'linguistics_term': 'moved_filler_en',\n",
       "  'UID': 'moved_filler_en_1',\n",
       "  'score': 0.4602510460251046},\n",
       " {'model': 'fr_conv',\n",
       "  'file_name': 'replaced_filler_en',\n",
       "  'linguistics_term': 'moved_filler_en',\n",
       "  'UID': 'moved_filler_en_0',\n",
       "  'score': 0.5313807531380753},\n",
       " {'model': 'fr_conv',\n",
       "  'file_name': 'replaced_filler_en',\n",
       "  'linguistics_term': 'moved_filler_en',\n",
       "  'UID': 'moved_filler_en_2',\n",
       "  'score': 0.4811715481171548},\n",
       " {'model': 'fr_conv',\n",
       "  'file_name': 'replaced_filler_en',\n",
       "  'linguistics_term': 'moved_filler_en',\n",
       "  'UID': 'moved_filler_en_3',\n",
       "  'score': 0.4811715481171548},\n",
       " {'model': 'fr_conv',\n",
       "  'file_name': 'replaced_filler_en',\n",
       "  'linguistics_term': 'moved_filler_en',\n",
       "  'UID': 'moved_filler_en_4',\n",
       "  'score': 0.5146443514644351}]"
      ]
     },
     "execution_count": 40,
     "metadata": {},
     "output_type": "execute_result"
    }
   ],
   "source": [
    "results[:5]"
   ]
  },
  {
   "cell_type": "code",
   "execution_count": null,
   "id": "0c2fcecd",
   "metadata": {},
   "outputs": [],
   "source": []
  },
  {
   "cell_type": "code",
   "execution_count": 46,
   "id": "dd2d5090",
   "metadata": {},
   "outputs": [],
   "source": [
    "df = pd.DataFrame(results)\n",
    "df.set_index('model')\n",
    "df.to_csv(results_folder + \"disfl_1219_stripped.csv\")"
   ]
  },
  {
   "cell_type": "code",
   "execution_count": null,
   "id": "2d6dc5a2",
   "metadata": {},
   "outputs": [],
   "source": []
  },
  {
   "cell_type": "code",
   "execution_count": 15,
   "id": "24eb51d5",
   "metadata": {},
   "outputs": [
    {
     "name": "stdout",
     "output_type": "stream",
     "text": [
      "                      benchmark  score\n",
      "model                                 \n",
      "fr_conv            moved_filler  0.810\n",
      "fr_wiki            moved_filler  0.720\n",
      "fr_mixed           moved_filler  0.805\n",
      "en_spoken          moved_filler  0.475\n",
      "en_wiki            moved_filler  0.480\n",
      "en_babylm          moved_filler  0.435\n",
      "xlm-roberta-large  moved_filler  0.675\n",
      "xlm-roberta-base   moved_filler  0.720\n",
      "                        benchmark  score\n",
      "model                                   \n",
      "fr_conv            removed_filler  0.435\n",
      "fr_wiki            removed_filler  0.350\n",
      "fr_mixed           removed_filler  0.565\n",
      "en_spoken          removed_filler  0.155\n",
      "en_wiki            removed_filler  0.710\n",
      "en_babylm          removed_filler  0.425\n",
      "xlm-roberta-large  removed_filler  0.810\n",
      "xlm-roberta-base   removed_filler  0.740\n",
      "                         benchmark  score\n",
      "model                                    \n",
      "fr_conv            replaced_filler  0.940\n",
      "fr_wiki            replaced_filler  0.410\n",
      "fr_mixed           replaced_filler  0.940\n",
      "en_spoken          replaced_filler  0.330\n",
      "en_wiki            replaced_filler  0.675\n",
      "en_babylm          replaced_filler  0.480\n",
      "xlm-roberta-large  replaced_filler  0.950\n",
      "xlm-roberta-base   replaced_filler  0.905\n",
      "                  benchmark  score\n",
      "model                             \n",
      "fr_conv            shuffled  1.000\n",
      "fr_wiki            shuffled  0.970\n",
      "fr_mixed           shuffled  1.000\n",
      "en_spoken          shuffled  0.690\n",
      "en_wiki            shuffled  0.720\n",
      "en_babylm          shuffled  0.625\n",
      "xlm-roberta-large  shuffled  0.995\n",
      "xlm-roberta-base   shuffled  0.995\n",
      "                         benchmark     score\n",
      "model                                       \n",
      "fr_conv            moved_filler_en  0.451883\n",
      "fr_wiki            moved_filler_en  0.481172\n",
      "fr_mixed           moved_filler_en  0.539749\n",
      "en_spoken          moved_filler_en  0.715481\n",
      "en_wiki            moved_filler_en  0.531381\n",
      "en_babylm          moved_filler_en  0.694561\n",
      "xlm-roberta-large  moved_filler_en  0.803347\n",
      "xlm-roberta-base   moved_filler_en  0.761506\n",
      "                           benchmark     score\n",
      "model                                         \n",
      "fr_conv            removed_filler_en  0.485356\n",
      "fr_wiki            removed_filler_en  0.234310\n",
      "fr_mixed           removed_filler_en  0.527197\n",
      "en_spoken          removed_filler_en  0.004184\n",
      "en_wiki            removed_filler_en  0.246862\n",
      "en_babylm          removed_filler_en  0.246862\n",
      "xlm-roberta-large  removed_filler_en  0.200837\n",
      "xlm-roberta-base   removed_filler_en  0.158996\n",
      "                            benchmark     score\n",
      "model                                          \n",
      "fr_conv            replaced_filler_en  0.627615\n",
      "fr_wiki            replaced_filler_en  0.405858\n",
      "fr_mixed           replaced_filler_en  0.615063\n",
      "en_spoken          replaced_filler_en  0.464435\n",
      "en_wiki            replaced_filler_en  0.502092\n",
      "en_babylm          replaced_filler_en  0.690377\n",
      "xlm-roberta-large  replaced_filler_en  0.665272\n",
      "xlm-roberta-base   replaced_filler_en  0.623431\n",
      "                     benchmark     score\n",
      "model                                   \n",
      "fr_conv            shuffled_en  0.665272\n",
      "fr_wiki            shuffled_en  0.652720\n",
      "fr_mixed           shuffled_en  0.656904\n",
      "en_spoken          shuffled_en  1.000000\n",
      "en_wiki            shuffled_en  0.958159\n",
      "en_babylm          shuffled_en  0.987448\n",
      "xlm-roberta-large  shuffled_en  0.991632\n",
      "xlm-roberta-base   shuffled_en  0.995816\n"
     ]
    }
   ],
   "source": [
    "print(df.loc[df['benchmark'] == 'moved_filler'].set_index('model'))\n",
    "print(df.loc[df['benchmark'] == 'removed_filler'].set_index('model'))\n",
    "print(df.loc[df['benchmark'] == 'replaced_filler'].set_index('model'))\n",
    "print(df.loc[df['benchmark'] == 'shuffled'].set_index('model'))\n",
    "\n",
    "print(df.loc[df['benchmark'] == 'moved_filler_en'].set_index('model'))\n",
    "print(df.loc[df['benchmark'] == 'removed_filler_en'].set_index('model'))\n",
    "print(df.loc[df['benchmark'] == 'replaced_filler_en'].set_index('model'))\n",
    "print(df.loc[df['benchmark'] == 'shuffled_en'].set_index('model'))"
   ]
  },
  {
   "cell_type": "code",
   "execution_count": 21,
   "id": "e57adbd8",
   "metadata": {},
   "outputs": [
    {
     "name": "stdout",
     "output_type": "stream",
     "text": [
      "                      benchmark  score\n",
      "model                                 \n",
      "fr_conv            moved_filler  0.805\n",
      "fr_wiki            moved_filler  0.690\n",
      "fr_mixed           moved_filler  0.840\n",
      "en_spoken          moved_filler  0.485\n",
      "en_wiki            moved_filler  0.470\n",
      "en_babylm          moved_filler  0.490\n",
      "xlm-roberta-large  moved_filler  0.720\n",
      "xlm-roberta-base   moved_filler  0.710\n",
      "                        benchmark  score\n",
      "model                                   \n",
      "fr_conv            removed_filler  0.385\n",
      "fr_wiki            removed_filler  0.010\n",
      "fr_mixed           removed_filler  0.160\n",
      "en_spoken          removed_filler  0.020\n",
      "en_wiki            removed_filler  0.565\n",
      "en_babylm          removed_filler  0.240\n",
      "xlm-roberta-large  removed_filler  0.665\n",
      "xlm-roberta-base   removed_filler  0.680\n",
      "                  benchmark  score\n",
      "model                             \n",
      "fr_conv            shuffled  1.000\n",
      "fr_wiki            shuffled  0.985\n",
      "fr_mixed           shuffled  1.000\n",
      "en_spoken          shuffled  0.665\n",
      "en_wiki            shuffled  0.760\n",
      "en_babylm          shuffled  0.605\n",
      "xlm-roberta-large  shuffled  1.000\n",
      "xlm-roberta-base   shuffled  0.995\n",
      "                         benchmark     score\n",
      "model                                       \n",
      "fr_conv            moved_filler_en  0.527197\n",
      "fr_wiki            moved_filler_en  0.460251\n",
      "fr_mixed           moved_filler_en  0.472803\n",
      "en_spoken          moved_filler_en  0.702929\n",
      "en_wiki            moved_filler_en  0.577406\n",
      "en_babylm          moved_filler_en  0.627615\n",
      "xlm-roberta-large  moved_filler_en  0.719665\n",
      "xlm-roberta-base   moved_filler_en  0.740586\n",
      "                           benchmark     score\n",
      "model                                         \n",
      "fr_conv            removed_filler_en  0.133891\n",
      "fr_wiki            removed_filler_en  0.000000\n",
      "fr_mixed           removed_filler_en  0.133891\n",
      "en_spoken          removed_filler_en  0.004184\n",
      "en_wiki            removed_filler_en  0.058577\n",
      "en_babylm          removed_filler_en  0.004184\n",
      "xlm-roberta-large  removed_filler_en  0.133891\n",
      "xlm-roberta-base   removed_filler_en  0.117155\n",
      "                     benchmark     score\n",
      "model                                   \n",
      "fr_conv            shuffled_en  0.702929\n",
      "fr_wiki            shuffled_en  0.677824\n",
      "fr_mixed           shuffled_en  0.644351\n",
      "en_spoken          shuffled_en  0.987448\n",
      "en_wiki            shuffled_en  0.941423\n",
      "en_babylm          shuffled_en  0.983264\n",
      "xlm-roberta-large  shuffled_en  0.983264\n",
      "xlm-roberta-base   shuffled_en  0.991632\n"
     ]
    }
   ],
   "source": [
    "print(df.loc[df['benchmark'] == 'moved_filler'].set_index('model'))\n",
    "print(df.loc[df['benchmark'] == 'removed_filler'].set_index('model'))\n",
    "print(df.loc[df['benchmark'] == 'shuffled'].set_index('model'))\n",
    "print(df.loc[df['benchmark'] == 'moved_filler_en'].set_index('model'))\n",
    "print(df.loc[df['benchmark'] == 'removed_filler_en'].set_index('model'))\n",
    "print(df.loc[df['benchmark'] == 'shuffled_en'].set_index('model'))\n"
   ]
  },
  {
   "cell_type": "code",
   "execution_count": 7,
   "id": "2d3a93cd",
   "metadata": {},
   "outputs": [
    {
     "data": {
      "text/html": [
       "<div>\n",
       "<style scoped>\n",
       "    .dataframe tbody tr th:only-of-type {\n",
       "        vertical-align: middle;\n",
       "    }\n",
       "\n",
       "    .dataframe tbody tr th {\n",
       "        vertical-align: top;\n",
       "    }\n",
       "\n",
       "    .dataframe thead th {\n",
       "        text-align: right;\n",
       "    }\n",
       "</style>\n",
       "<table border=\"1\" class=\"dataframe\">\n",
       "  <thead>\n",
       "    <tr style=\"text-align: right;\">\n",
       "      <th></th>\n",
       "      <th>benchmark</th>\n",
       "      <th>score</th>\n",
       "    </tr>\n",
       "    <tr>\n",
       "      <th>model</th>\n",
       "      <th></th>\n",
       "      <th></th>\n",
       "    </tr>\n",
       "  </thead>\n",
       "  <tbody>\n",
       "    <tr>\n",
       "      <th>fr_conv</th>\n",
       "      <td>removed_filler</td>\n",
       "      <td>0.435</td>\n",
       "    </tr>\n",
       "    <tr>\n",
       "      <th>fr_wiki</th>\n",
       "      <td>removed_filler</td>\n",
       "      <td>0.350</td>\n",
       "    </tr>\n",
       "    <tr>\n",
       "      <th>fr_mixed</th>\n",
       "      <td>removed_filler</td>\n",
       "      <td>0.565</td>\n",
       "    </tr>\n",
       "    <tr>\n",
       "      <th>en_spoken</th>\n",
       "      <td>removed_filler</td>\n",
       "      <td>0.155</td>\n",
       "    </tr>\n",
       "    <tr>\n",
       "      <th>en_wiki</th>\n",
       "      <td>removed_filler</td>\n",
       "      <td>0.710</td>\n",
       "    </tr>\n",
       "    <tr>\n",
       "      <th>en_babylm</th>\n",
       "      <td>removed_filler</td>\n",
       "      <td>0.425</td>\n",
       "    </tr>\n",
       "    <tr>\n",
       "      <th>xlm-roberta-large</th>\n",
       "      <td>removed_filler</td>\n",
       "      <td>0.810</td>\n",
       "    </tr>\n",
       "    <tr>\n",
       "      <th>xlm-roberta-base</th>\n",
       "      <td>removed_filler</td>\n",
       "      <td>0.740</td>\n",
       "    </tr>\n",
       "  </tbody>\n",
       "</table>\n",
       "</div>"
      ],
      "text/plain": [
       "                        benchmark  score\n",
       "model                                   \n",
       "fr_conv            removed_filler  0.435\n",
       "fr_wiki            removed_filler  0.350\n",
       "fr_mixed           removed_filler  0.565\n",
       "en_spoken          removed_filler  0.155\n",
       "en_wiki            removed_filler  0.710\n",
       "en_babylm          removed_filler  0.425\n",
       "xlm-roberta-large  removed_filler  0.810\n",
       "xlm-roberta-base   removed_filler  0.740"
      ]
     },
     "execution_count": 7,
     "metadata": {},
     "output_type": "execute_result"
    }
   ],
   "source": [
    "df.loc[df['benchmark'] == 'removed_filler'].set_index('model')"
   ]
  },
  {
   "cell_type": "code",
   "execution_count": 8,
   "id": "2fc0f2cb",
   "metadata": {},
   "outputs": [
    {
     "data": {
      "text/html": [
       "<div>\n",
       "<style scoped>\n",
       "    .dataframe tbody tr th:only-of-type {\n",
       "        vertical-align: middle;\n",
       "    }\n",
       "\n",
       "    .dataframe tbody tr th {\n",
       "        vertical-align: top;\n",
       "    }\n",
       "\n",
       "    .dataframe thead th {\n",
       "        text-align: right;\n",
       "    }\n",
       "</style>\n",
       "<table border=\"1\" class=\"dataframe\">\n",
       "  <thead>\n",
       "    <tr style=\"text-align: right;\">\n",
       "      <th></th>\n",
       "      <th>benchmark</th>\n",
       "      <th>score</th>\n",
       "    </tr>\n",
       "    <tr>\n",
       "      <th>model</th>\n",
       "      <th></th>\n",
       "      <th></th>\n",
       "    </tr>\n",
       "  </thead>\n",
       "  <tbody>\n",
       "    <tr>\n",
       "      <th>fr_conv</th>\n",
       "      <td>shuffled</td>\n",
       "      <td>1.000</td>\n",
       "    </tr>\n",
       "    <tr>\n",
       "      <th>fr_wiki</th>\n",
       "      <td>shuffled</td>\n",
       "      <td>0.975</td>\n",
       "    </tr>\n",
       "    <tr>\n",
       "      <th>fr_mixed</th>\n",
       "      <td>shuffled</td>\n",
       "      <td>0.995</td>\n",
       "    </tr>\n",
       "    <tr>\n",
       "      <th>en_spoken</th>\n",
       "      <td>shuffled</td>\n",
       "      <td>0.645</td>\n",
       "    </tr>\n",
       "    <tr>\n",
       "      <th>en_wiki</th>\n",
       "      <td>shuffled</td>\n",
       "      <td>0.695</td>\n",
       "    </tr>\n",
       "    <tr>\n",
       "      <th>en_babylm</th>\n",
       "      <td>shuffled</td>\n",
       "      <td>0.620</td>\n",
       "    </tr>\n",
       "    <tr>\n",
       "      <th>xlm-roberta-large</th>\n",
       "      <td>shuffled</td>\n",
       "      <td>1.000</td>\n",
       "    </tr>\n",
       "    <tr>\n",
       "      <th>xlm-roberta-base</th>\n",
       "      <td>shuffled</td>\n",
       "      <td>1.000</td>\n",
       "    </tr>\n",
       "  </tbody>\n",
       "</table>\n",
       "</div>"
      ],
      "text/plain": [
       "                  benchmark  score\n",
       "model                             \n",
       "fr_conv            shuffled  1.000\n",
       "fr_wiki            shuffled  0.975\n",
       "fr_mixed           shuffled  0.995\n",
       "en_spoken          shuffled  0.645\n",
       "en_wiki            shuffled  0.695\n",
       "en_babylm          shuffled  0.620\n",
       "xlm-roberta-large  shuffled  1.000\n",
       "xlm-roberta-base   shuffled  1.000"
      ]
     },
     "execution_count": 8,
     "metadata": {},
     "output_type": "execute_result"
    }
   ],
   "source": [
    "df.loc[df['benchmark'] == 'shuffled'].set_index('model')"
   ]
  },
  {
   "cell_type": "code",
   "execution_count": 9,
   "id": "a514bc8a",
   "metadata": {},
   "outputs": [
    {
     "data": {
      "text/html": [
       "<div>\n",
       "<style scoped>\n",
       "    .dataframe tbody tr th:only-of-type {\n",
       "        vertical-align: middle;\n",
       "    }\n",
       "\n",
       "    .dataframe tbody tr th {\n",
       "        vertical-align: top;\n",
       "    }\n",
       "\n",
       "    .dataframe thead th {\n",
       "        text-align: right;\n",
       "    }\n",
       "</style>\n",
       "<table border=\"1\" class=\"dataframe\">\n",
       "  <thead>\n",
       "    <tr style=\"text-align: right;\">\n",
       "      <th></th>\n",
       "      <th>benchmark</th>\n",
       "      <th>score</th>\n",
       "    </tr>\n",
       "    <tr>\n",
       "      <th>model</th>\n",
       "      <th></th>\n",
       "      <th></th>\n",
       "    </tr>\n",
       "  </thead>\n",
       "  <tbody>\n",
       "    <tr>\n",
       "      <th>fr_conv</th>\n",
       "      <td>shuffled_sanity</td>\n",
       "      <td>0.370</td>\n",
       "    </tr>\n",
       "    <tr>\n",
       "      <th>fr_wiki</th>\n",
       "      <td>shuffled_sanity</td>\n",
       "      <td>0.045</td>\n",
       "    </tr>\n",
       "    <tr>\n",
       "      <th>fr_mixed</th>\n",
       "      <td>shuffled_sanity</td>\n",
       "      <td>0.225</td>\n",
       "    </tr>\n",
       "    <tr>\n",
       "      <th>en_spoken</th>\n",
       "      <td>shuffled_sanity</td>\n",
       "      <td>0.000</td>\n",
       "    </tr>\n",
       "    <tr>\n",
       "      <th>en_wiki</th>\n",
       "      <td>shuffled_sanity</td>\n",
       "      <td>0.065</td>\n",
       "    </tr>\n",
       "    <tr>\n",
       "      <th>en_babylm</th>\n",
       "      <td>shuffled_sanity</td>\n",
       "      <td>0.000</td>\n",
       "    </tr>\n",
       "    <tr>\n",
       "      <th>xlm-roberta-large</th>\n",
       "      <td>shuffled_sanity</td>\n",
       "      <td>0.950</td>\n",
       "    </tr>\n",
       "    <tr>\n",
       "      <th>xlm-roberta-base</th>\n",
       "      <td>shuffled_sanity</td>\n",
       "      <td>0.940</td>\n",
       "    </tr>\n",
       "  </tbody>\n",
       "</table>\n",
       "</div>"
      ],
      "text/plain": [
       "                         benchmark  score\n",
       "model                                    \n",
       "fr_conv            shuffled_sanity  0.370\n",
       "fr_wiki            shuffled_sanity  0.045\n",
       "fr_mixed           shuffled_sanity  0.225\n",
       "en_spoken          shuffled_sanity  0.000\n",
       "en_wiki            shuffled_sanity  0.065\n",
       "en_babylm          shuffled_sanity  0.000\n",
       "xlm-roberta-large  shuffled_sanity  0.950\n",
       "xlm-roberta-base   shuffled_sanity  0.940"
      ]
     },
     "execution_count": 9,
     "metadata": {},
     "output_type": "execute_result"
    }
   ],
   "source": [
    "df.loc[df['benchmark'] == 'shuffled_sanity'].set_index('model')"
   ]
  },
  {
   "cell_type": "code",
   "execution_count": 10,
   "id": "ef443de6",
   "metadata": {},
   "outputs": [
    {
     "data": {
      "text/html": [
       "<div>\n",
       "<style scoped>\n",
       "    .dataframe tbody tr th:only-of-type {\n",
       "        vertical-align: middle;\n",
       "    }\n",
       "\n",
       "    .dataframe tbody tr th {\n",
       "        vertical-align: top;\n",
       "    }\n",
       "\n",
       "    .dataframe thead th {\n",
       "        text-align: right;\n",
       "    }\n",
       "</style>\n",
       "<table border=\"1\" class=\"dataframe\">\n",
       "  <thead>\n",
       "    <tr style=\"text-align: right;\">\n",
       "      <th></th>\n",
       "      <th>benchmark</th>\n",
       "      <th>score</th>\n",
       "    </tr>\n",
       "    <tr>\n",
       "      <th>model</th>\n",
       "      <th></th>\n",
       "      <th></th>\n",
       "    </tr>\n",
       "  </thead>\n",
       "  <tbody>\n",
       "    <tr>\n",
       "      <th>fr_conv</th>\n",
       "      <td>moved_filler_en</td>\n",
       "      <td>0.485356</td>\n",
       "    </tr>\n",
       "    <tr>\n",
       "      <th>fr_wiki</th>\n",
       "      <td>moved_filler_en</td>\n",
       "      <td>0.539749</td>\n",
       "    </tr>\n",
       "    <tr>\n",
       "      <th>fr_mixed</th>\n",
       "      <td>moved_filler_en</td>\n",
       "      <td>0.527197</td>\n",
       "    </tr>\n",
       "    <tr>\n",
       "      <th>en_spoken</th>\n",
       "      <td>moved_filler_en</td>\n",
       "      <td>0.715481</td>\n",
       "    </tr>\n",
       "    <tr>\n",
       "      <th>en_wiki</th>\n",
       "      <td>moved_filler_en</td>\n",
       "      <td>0.573222</td>\n",
       "    </tr>\n",
       "    <tr>\n",
       "      <th>en_babylm</th>\n",
       "      <td>moved_filler_en</td>\n",
       "      <td>0.719665</td>\n",
       "    </tr>\n",
       "    <tr>\n",
       "      <th>xlm-roberta-large</th>\n",
       "      <td>moved_filler_en</td>\n",
       "      <td>0.728033</td>\n",
       "    </tr>\n",
       "    <tr>\n",
       "      <th>xlm-roberta-base</th>\n",
       "      <td>moved_filler_en</td>\n",
       "      <td>0.728033</td>\n",
       "    </tr>\n",
       "  </tbody>\n",
       "</table>\n",
       "</div>"
      ],
      "text/plain": [
       "                         benchmark     score\n",
       "model                                       \n",
       "fr_conv            moved_filler_en  0.485356\n",
       "fr_wiki            moved_filler_en  0.539749\n",
       "fr_mixed           moved_filler_en  0.527197\n",
       "en_spoken          moved_filler_en  0.715481\n",
       "en_wiki            moved_filler_en  0.573222\n",
       "en_babylm          moved_filler_en  0.719665\n",
       "xlm-roberta-large  moved_filler_en  0.728033\n",
       "xlm-roberta-base   moved_filler_en  0.728033"
      ]
     },
     "execution_count": 10,
     "metadata": {},
     "output_type": "execute_result"
    }
   ],
   "source": [
    "df.loc[df['benchmark'] == 'moved_filler_en'].set_index('model')"
   ]
  },
  {
   "cell_type": "code",
   "execution_count": null,
   "id": "3f82e3cf",
   "metadata": {},
   "outputs": [],
   "source": []
  },
  {
   "cell_type": "code",
   "execution_count": 61,
   "id": "e3cba3a4",
   "metadata": {},
   "outputs": [],
   "source": [
    "ckpt = \"../babyLM_TW_FR/models/fr_conv_spbpe_concat\""
   ]
  },
  {
   "cell_type": "code",
   "execution_count": 62,
   "id": "b8bcd692",
   "metadata": {},
   "outputs": [
    {
     "data": {
      "text/plain": [
       "0"
      ]
     },
     "execution_count": 62,
     "metadata": {},
     "output_type": "execute_result"
    }
   ],
   "source": [
    "mlm_model = scorer.MaskedLMScorer(ckpt, 'cuda')\n",
    "mlm_model.bos_token_id"
   ]
  },
  {
   "cell_type": "code",
   "execution_count": 63,
   "id": "7e16df06",
   "metadata": {},
   "outputs": [
    {
     "data": {
      "text/plain": [
       "['<s> ts </s>']"
      ]
     },
     "execution_count": 63,
     "metadata": {},
     "output_type": "execute_result"
    }
   ],
   "source": [
    "mlm_model.add_special_tokens(\"ts\")"
   ]
  },
  {
   "cell_type": "code",
   "execution_count": 64,
   "id": "038cf9bb",
   "metadata": {},
   "outputs": [],
   "source": [
    "benchmark_path = 'evaluation_data/disfl/moved_filler.json'\n",
    "with open(benchmark_path, 'r', encoding = 'utf-8') as f:\n",
    "    f = f.read().split('\\n')\n",
    "    data = [json.loads(e) for e in f if e.strip()]"
   ]
  },
  {
   "cell_type": "code",
   "execution_count": 65,
   "id": "892c9c14",
   "metadata": {},
   "outputs": [
    {
     "data": {
      "text/plain": [
       "[\"on en pouvait plus de euh d'attendre *\",\n",
       " \"on en pouvait plus euh de d'attendre *\"]"
      ]
     },
     "execution_count": 65,
     "metadata": {},
     "output_type": "execute_result"
    }
   ],
   "source": [
    "i=4\n",
    "pairs = [data[i]['sentence_good'], data[i]['sentence_bad']]\n",
    "pairs"
   ]
  },
  {
   "cell_type": "code",
   "execution_count": 66,
   "id": "04a8390d",
   "metadata": {},
   "outputs": [
    {
     "name": "stdout",
     "output_type": "stream",
     "text": [
      "[-2.4826993703842164]\n"
     ]
    }
   ],
   "source": [
    "results = mlm_model.conditional_score(['</s>'], [\" c' était euh c' était quand je bossais en Belgique euh #\"])\n",
    "print(results)\n"
   ]
  },
  {
   "cell_type": "code",
   "execution_count": 67,
   "id": "09158c50",
   "metadata": {},
   "outputs": [
    {
     "data": {
      "text/plain": [
       "[-2.904822667439779, -2.7661989529927573]"
      ]
     },
     "execution_count": 67,
     "metadata": {},
     "output_type": "execute_result"
    }
   ],
   "source": [
    "mlm_model.sequence_score(pairs, reduction = lambda x: x.mean(0).item())\n",
    "    "
   ]
  },
  {
   "cell_type": "code",
   "execution_count": 68,
   "id": "d33dc3ab",
   "metadata": {},
   "outputs": [
    {
     "data": {
      "text/plain": [
       "[-2.879453659057617, -10.80995798110962]"
      ]
     },
     "execution_count": 68,
     "metadata": {},
     "output_type": "execute_result"
    }
   ],
   "source": [
    "mlm_model.conditional_score([\" dans le sens où il euh il demande beaucoup \", \" gens dans beaucoup aux le il demande euh il\"], \n",
    "                            [\"aux gens\", \"sens où\"])\n"
   ]
  },
  {
   "cell_type": "code",
   "execution_count": 4,
   "id": "57781855",
   "metadata": {},
   "outputs": [
    {
     "name": "stderr",
     "output_type": "stream",
     "text": [
      "100%|██████████| 8/8 [04:14<00:00, 31.86s/it]\n"
     ]
    }
   ],
   "source": []
  },
  {
   "cell_type": "code",
   "execution_count": 5,
   "id": "929b79e3",
   "metadata": {},
   "outputs": [],
   "source": []
  },
  {
   "cell_type": "code",
   "execution_count": null,
   "id": "b30f8307",
   "metadata": {},
   "outputs": [],
   "source": [
    "df.loc[df['benchmark'] == 'removed_filler_en'].set_index('model')"
   ]
  },
  {
   "cell_type": "code",
   "execution_count": null,
   "id": "d36118f7",
   "metadata": {},
   "outputs": [],
   "source": [
    "df.loc[df['benchmark'] == 'shuffled_en'].set_index('model')"
   ]
  },
  {
   "cell_type": "code",
   "execution_count": null,
   "id": "85f3c922",
   "metadata": {},
   "outputs": [],
   "source": [
    "np.mean([x[0] > x[1] for x in results])"
   ]
  },
  {
   "cell_type": "code",
   "execution_count": null,
   "id": "a6041b0a",
   "metadata": {},
   "outputs": [],
   "source": [
    "results"
   ]
  },
  {
   "cell_type": "code",
   "execution_count": 49,
   "id": "1bda1668",
   "metadata": {},
   "outputs": [
    {
     "name": "stderr",
     "output_type": "stream",
     "text": [
      "/home/sftwang/.local/lib/python3.10/site-packages/transformers/deepspeed.py:24: FutureWarning: transformers.deepspeed module is deprecated and will be removed in a future version. Please import deepspeed modules directly from transformers.integrations\n",
      "  warnings.warn(\n",
      "Discovered apex.normalization.FusedRMSNorm - will use it instead of LongT5LayerNorm\n",
      "Discovered apex.normalization.FusedRMSNorm - will use it instead of Pix2StructLayerNorm\n",
      "Discovered apex.normalization.FusedRMSNorm - will use it instead of Pop2PianoLayerNorm\n",
      "Discovered apex.normalization.FusedRMSNorm - will use it instead of T5LayerNorm\n"
     ]
    }
   ],
   "source": [
    "import torch\n",
    "#from torch.nn.parallel import DataParallel as DP\n",
    "import composer.functional as cf\n",
    "from composer.algorithms import Alibi\n",
    "import composer.trainer as ct\n",
    "from composer.metrics.nlp import LanguageCrossEntropy, MaskedAccuracy, BinaryF1Score\n",
    "from composer.models.huggingface import HuggingFaceModel\n",
    "from composer.metrics import CrossEntropy\n",
    "from torchmetrics.classification import MulticlassAccuracy\n",
    "\n",
    "\n",
    "import os\n",
    "import shutil\n",
    "import json\n",
    "import numpy as np\n",
    "import re\n",
    "\n",
    "####\n",
    "from pathlib import Path\n",
    "from datasets import *\n",
    "from torch.utils.data import DataLoader\n",
    "from transformers import *\n",
    "from tokenizers import *\n",
    "from tokenizers.models import BPE\n",
    "from tokenizers.trainers import BpeTrainer\n",
    "\n",
    "\n",
    "from transformers import DataCollatorForLanguageModeling\n",
    "from transformers import LineByLineTextDataset\n",
    "from transformers import is_torch_tpu_available\n",
    "\n",
    "import random\n",
    "import argparse"
   ]
  },
  {
   "cell_type": "code",
   "execution_count": 53,
   "id": "afd813fa",
   "metadata": {},
   "outputs": [
    {
     "name": "stderr",
     "output_type": "stream",
     "text": [
      "loading file sentencepiece.bpe.model\n",
      "loading file tokenizer.json\n",
      "loading file added_tokens.json\n",
      "loading file special_tokens_map.json\n",
      "loading file tokenizer_config.json\n"
     ]
    }
   ],
   "source": [
    "tokenizer = AutoTokenizer.from_pretrained(\"./models/fr_conv_spbpe_concat\")"
   ]
  },
  {
   "cell_type": "code",
   "execution_count": 54,
   "id": "4cfedde3",
   "metadata": {},
   "outputs": [
    {
     "data": {
      "text/plain": [
       "['<s>', '▁t', 'hi', 's', '▁', 'is', '▁', 'um', '<unk>', '</s>']"
      ]
     },
     "execution_count": 54,
     "metadata": {},
     "output_type": "execute_result"
    }
   ],
   "source": [
    "tokenizer(\"this is um <unk>\").tokens()"
   ]
  },
  {
   "cell_type": "code",
   "execution_count": 94,
   "id": "9f09b539",
   "metadata": {},
   "outputs": [
    {
     "name": "stderr",
     "output_type": "stream",
     "text": [
      "loading configuration file config.json from cache at /home/sftwang/.cache/huggingface/hub/models--FacebookAI--xlm-roberta-large/snapshots/c23d21b0620b635a76227c604d44e43a9f0ee389/config.json\n",
      "Model config XLMRobertaConfig {\n",
      "  \"_name_or_path\": \"FacebookAI/xlm-roberta-large\",\n",
      "  \"architectures\": [\n",
      "    \"XLMRobertaForMaskedLM\"\n",
      "  ],\n",
      "  \"attention_probs_dropout_prob\": 0.1,\n",
      "  \"bos_token_id\": 0,\n",
      "  \"classifier_dropout\": null,\n",
      "  \"eos_token_id\": 2,\n",
      "  \"hidden_act\": \"gelu\",\n",
      "  \"hidden_dropout_prob\": 0.1,\n",
      "  \"hidden_size\": 1024,\n",
      "  \"initializer_range\": 0.02,\n",
      "  \"intermediate_size\": 4096,\n",
      "  \"layer_norm_eps\": 1e-05,\n",
      "  \"max_position_embeddings\": 514,\n",
      "  \"model_type\": \"xlm-roberta\",\n",
      "  \"num_attention_heads\": 16,\n",
      "  \"num_hidden_layers\": 24,\n",
      "  \"output_past\": true,\n",
      "  \"pad_token_id\": 1,\n",
      "  \"position_embedding_type\": \"absolute\",\n",
      "  \"transformers_version\": \"4.45.1\",\n",
      "  \"type_vocab_size\": 1,\n",
      "  \"use_cache\": true,\n",
      "  \"vocab_size\": 250002\n",
      "}\n",
      "\n",
      "loading file sentencepiece.bpe.model from cache at /home/sftwang/.cache/huggingface/hub/models--FacebookAI--xlm-roberta-large/snapshots/c23d21b0620b635a76227c604d44e43a9f0ee389/sentencepiece.bpe.model\n",
      "loading file tokenizer.json from cache at /home/sftwang/.cache/huggingface/hub/models--FacebookAI--xlm-roberta-large/snapshots/c23d21b0620b635a76227c604d44e43a9f0ee389/tokenizer.json\n",
      "loading file added_tokens.json from cache at None\n",
      "loading file special_tokens_map.json from cache at None\n",
      "loading file tokenizer_config.json from cache at /home/sftwang/.cache/huggingface/hub/models--FacebookAI--xlm-roberta-large/snapshots/c23d21b0620b635a76227c604d44e43a9f0ee389/tokenizer_config.json\n",
      "loading configuration file config.json from cache at /home/sftwang/.cache/huggingface/hub/models--FacebookAI--xlm-roberta-large/snapshots/c23d21b0620b635a76227c604d44e43a9f0ee389/config.json\n",
      "Model config XLMRobertaConfig {\n",
      "  \"_name_or_path\": \"FacebookAI/xlm-roberta-large\",\n",
      "  \"architectures\": [\n",
      "    \"XLMRobertaForMaskedLM\"\n",
      "  ],\n",
      "  \"attention_probs_dropout_prob\": 0.1,\n",
      "  \"bos_token_id\": 0,\n",
      "  \"classifier_dropout\": null,\n",
      "  \"eos_token_id\": 2,\n",
      "  \"hidden_act\": \"gelu\",\n",
      "  \"hidden_dropout_prob\": 0.1,\n",
      "  \"hidden_size\": 1024,\n",
      "  \"initializer_range\": 0.02,\n",
      "  \"intermediate_size\": 4096,\n",
      "  \"layer_norm_eps\": 1e-05,\n",
      "  \"max_position_embeddings\": 514,\n",
      "  \"model_type\": \"xlm-roberta\",\n",
      "  \"num_attention_heads\": 16,\n",
      "  \"num_hidden_layers\": 24,\n",
      "  \"output_past\": true,\n",
      "  \"pad_token_id\": 1,\n",
      "  \"position_embedding_type\": \"absolute\",\n",
      "  \"transformers_version\": \"4.45.1\",\n",
      "  \"type_vocab_size\": 1,\n",
      "  \"use_cache\": true,\n",
      "  \"vocab_size\": 250002\n",
      "}\n",
      "\n",
      "loading configuration file config.json from cache at /home/sftwang/.cache/huggingface/hub/models--FacebookAI--xlm-roberta-large/snapshots/c23d21b0620b635a76227c604d44e43a9f0ee389/config.json\n",
      "Model config XLMRobertaConfig {\n",
      "  \"_name_or_path\": \"FacebookAI/xlm-roberta-large\",\n",
      "  \"architectures\": [\n",
      "    \"XLMRobertaForMaskedLM\"\n",
      "  ],\n",
      "  \"attention_probs_dropout_prob\": 0.1,\n",
      "  \"bos_token_id\": 0,\n",
      "  \"classifier_dropout\": null,\n",
      "  \"eos_token_id\": 2,\n",
      "  \"hidden_act\": \"gelu\",\n",
      "  \"hidden_dropout_prob\": 0.1,\n",
      "  \"hidden_size\": 1024,\n",
      "  \"initializer_range\": 0.02,\n",
      "  \"intermediate_size\": 4096,\n",
      "  \"layer_norm_eps\": 1e-05,\n",
      "  \"max_position_embeddings\": 514,\n",
      "  \"model_type\": \"xlm-roberta\",\n",
      "  \"num_attention_heads\": 16,\n",
      "  \"num_hidden_layers\": 24,\n",
      "  \"output_past\": true,\n",
      "  \"pad_token_id\": 1,\n",
      "  \"position_embedding_type\": \"absolute\",\n",
      "  \"transformers_version\": \"4.45.1\",\n",
      "  \"type_vocab_size\": 1,\n",
      "  \"use_cache\": true,\n",
      "  \"vocab_size\": 250002\n",
      "}\n",
      "\n",
      "loading weights file model.safetensors from cache at /home/sftwang/.cache/huggingface/hub/models--FacebookAI--xlm-roberta-large/snapshots/c23d21b0620b635a76227c604d44e43a9f0ee389/model.safetensors\n",
      "Some weights of the model checkpoint at FacebookAI/xlm-roberta-large were not used when initializing XLMRobertaForMaskedLM: ['roberta.pooler.dense.bias', 'roberta.pooler.dense.weight']\n",
      "- This IS expected if you are initializing XLMRobertaForMaskedLM from the checkpoint of a model trained on another task or with another architecture (e.g. initializing a BertForSequenceClassification model from a BertForPreTraining model).\n",
      "- This IS NOT expected if you are initializing XLMRobertaForMaskedLM from the checkpoint of a model that you expect to be exactly identical (initializing a BertForSequenceClassification model from a BertForSequenceClassification model).\n",
      "All the weights of XLMRobertaForMaskedLM were initialized from the model checkpoint at FacebookAI/xlm-roberta-large.\n",
      "If your task is similar to the task the model of the checkpoint was trained on, you can already use XLMRobertaForMaskedLM for predictions without further training.\n"
     ]
    }
   ],
   "source": [
    "mlm_model = scorer.MaskedLMScorer(\"FacebookAI/xlm-roberta-large\", 'cuda')"
   ]
  },
  {
   "cell_type": "code",
   "execution_count": 98,
   "id": "e2b148cb",
   "metadata": {},
   "outputs": [
    {
     "data": {
      "text/plain": [
       "[-2.119367480278015, -4.708889007568359]"
      ]
     },
     "execution_count": 98,
     "metadata": {},
     "output_type": "execute_result"
    }
   ],
   "source": [
    "mlm_model.conditional_score(['</s>', '</s>'], [\"je crois j' étais euh je me rappelle plus si j' étais on était au lycée ou en # en première année de fac je crois #\",'這根本是 中文'])"
   ]
  },
  {
   "cell_type": "code",
   "execution_count": null,
   "id": "20d6f9a4",
   "metadata": {},
   "outputs": [],
   "source": []
  }
 ],
 "metadata": {
  "kernelspec": {
   "display_name": "Python 3 (ipykernel)",
   "language": "python",
   "name": "python3"
  },
  "language_info": {
   "codemirror_mode": {
    "name": "ipython",
    "version": 3
   },
   "file_extension": ".py",
   "mimetype": "text/x-python",
   "name": "python",
   "nbconvert_exporter": "python",
   "pygments_lexer": "ipython3",
   "version": "3.8.19"
  }
 },
 "nbformat": 4,
 "nbformat_minor": 5
}
