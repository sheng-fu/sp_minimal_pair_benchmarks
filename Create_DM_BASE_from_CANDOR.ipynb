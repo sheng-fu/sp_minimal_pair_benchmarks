{
 "cells": [
  {
   "cell_type": "code",
   "execution_count": 24,
   "id": "e108e053",
   "metadata": {},
   "outputs": [],
   "source": [
    "import pandas as pd\n",
    "from tqdm import tqdm\n",
    "import re\n",
    "import os\n",
    "import random\n",
    "import nltk\n",
    "import collections\n",
    "\n",
    "random.seed(1991)"
   ]
  },
  {
   "cell_type": "code",
   "execution_count": 3,
   "id": "c8dca4b5",
   "metadata": {},
   "outputs": [
    {
     "data": {
      "text/plain": [
       "1656"
      ]
     },
     "execution_count": 3,
     "metadata": {},
     "output_type": "execute_result"
    }
   ],
   "source": [
    "candor_path = \"/home/prevot/data/no_media/\"\n",
    "dirs = os.listdir(candor_path)\n",
    "len(dirs)\n",
    "\n",
    "cliffhanger = pd.read_csv(os.path.join(candor_path, dirs[0], \"transcription/transcript_cliffhanger.csv\"))\n"
   ]
  },
  {
   "cell_type": "code",
   "execution_count": 16,
   "id": "05d78e8d",
   "metadata": {},
   "outputs": [],
   "source": [
    "cand_utts = []\n",
    "for i in dirs:\n",
    "    cliffhanger = pd.read_csv(os.path.join(candor_path, i, \"transcription/transcript_cliffhanger.csv\"))\n",
    "    utts = cliffhanger['utterance'].tolist()\n",
    "    utts = [re.sub(r\"(\\w)([^\\w\\s'])\", r\"\\1 #\", x) for x in utts]\n",
    "    utts = [x.split() for x in utts if 'uh huh' not in x.lower() and 'uh mhm' not in x.lower()]\n",
    "    utts = [x for x in utts if len(x) > 4 and len(x) < 31 and ('uh' in x or 'Uh' in x or 'um' in x or 'Um' in x)]\n",
    "    cand_utts = cand_utts + utts\n",
    "\n",
    "inis = [u[0] for u in cand_utts if len(u)>4]\n",
    "collections.Counter(inis)"
   ]
  },
  {
   "cell_type": "code",
   "execution_count": null,
   "id": "063a944c",
   "metadata": {},
   "outputs": [],
   "source": []
  },
  {
   "cell_type": "code",
   "execution_count": 52,
   "id": "e6f61db2",
   "metadata": {},
   "outputs": [
    {
     "name": "stdout",
     "output_type": "stream",
     "text": [
      "1656\n",
      "530316\n",
      "974368\n",
      "14054\n"
     ]
    }
   ],
   "source": [
    "DMS = ['so','but',\"because\",\"well\",'like']\n",
    "mono_canditates = []\n",
    "cnt = 0\n",
    "cnt2 = 0\n",
    "cnt3 = 0\n",
    "\n",
    "for i in dirs:\n",
    "    cnt+=1\n",
    "    cliffhanger = pd.read_csv(os.path.join(candor_path, i, \"transcription/transcript_cliffhanger.csv\"))\n",
    "    for item,row in cliffhanger.iterrows():\n",
    "        cnt2 +=1 \n",
    "        utts = row['utterance'].lower().split('.')\n",
    "        #print(utts)\n",
    "        #input('???')\n",
    "        if len(utts)>1:\n",
    "            pairs = nltk.bigrams(utts)\n",
    "            for pair in pairs:\n",
    "                cnt3 +=1\n",
    "                if (20 > len(pair[0].split())>3) and (20 >len(pair[1].split())>3):\n",
    "                    if pair[1].split()[0] in DMS:\n",
    "                        mono_canditates.append(pair[0]+'<$>'+pair[1])\n",
    "\n",
    "print(cnt)\n",
    "print(cnt2)\n",
    "print(cnt3)\n",
    "print(len(mono_canditates))"
   ]
  },
  {
   "cell_type": "code",
   "execution_count": 53,
   "id": "2230dce4",
   "metadata": {},
   "outputs": [],
   "source": [
    "random.shuffle(mono_canditates)\n",
    "mono_canditates = mono_canditates[0:500]\n",
    "foutput = open('data_corpus/english_DM_mono.txt','w')\n",
    "towrite_lines = '\\n'.join(mono_canditates)\n",
    "foutput.writelines(towrite_lines)\n",
    "foutput.close()"
   ]
  },
  {
   "cell_type": "code",
   "execution_count": 11,
   "id": "bfa4332b",
   "metadata": {},
   "outputs": [],
   "source": []
  },
  {
   "cell_type": "code",
   "execution_count": 50,
   "id": "b3aba02f",
   "metadata": {},
   "outputs": [
    {
     "name": "stdout",
     "output_type": "stream",
     "text": [
      "Counter({'So': 4133, 'But': 1852, 'Like': 896, 'Well': 856, 'Because': 97, 'but': 5, 'so': 5, 'well': 2, 'like': 1})\n",
      "7847\n"
     ]
    }
   ],
   "source": [
    "DMS = ['so','but',\"because\",\"well\",'like']\n",
    "dial_canditates = []\n",
    "dial_dm_stats = []\n",
    "\n",
    "for i in dirs:\n",
    "    cliffhanger = pd.read_csv(os.path.join(candor_path, i, \"transcription/transcript_cliffhanger.csv\"))\n",
    "    cliffhanger['next_utt'] = cliffhanger['utterance'].shift(-1)\n",
    "    cliffhanger['next_id'] = cliffhanger['turn_id'].shift(-1)\n",
    "    \n",
    "    for i,row in cliffhanger.iterrows():\n",
    "        if (20 > len(row['utterance'].split()) > 3) and (20 > len(str(row['next_utt']).split()) > 3) and (row['next_id']!=0):\n",
    "            first_tok = row['next_utt'].split()[0]\n",
    "            if first_tok.lower() in DMS: \n",
    "                dial_canditates.append(row['utterance'].lower()+'<$>'+row['next_utt'].lower())\n",
    "                dial_dm_stats.append(first_tok)\n",
    "\n",
    "print(collections.Counter(dial_dm_stats))\n",
    "print(len(dial_canditates))"
   ]
  },
  {
   "cell_type": "code",
   "execution_count": 51,
   "id": "0399697d",
   "metadata": {},
   "outputs": [],
   "source": [
    "random.shuffle(dial_canditates)\n",
    "dial_canditates = dial_canditates[0:500]\n",
    "foutput = open('data_corpus/english_DM_dial.txt','w')\n",
    "towrite_lines = '\\n'.join(dial_canditates)\n",
    "foutput.writelines(towrite_lines)\n",
    "foutput.close()         \n",
    "                    \n"
   ]
  },
  {
   "cell_type": "code",
   "execution_count": null,
   "id": "89d9bdf6",
   "metadata": {},
   "outputs": [],
   "source": []
  }
 ],
 "metadata": {
  "kernelspec": {
   "display_name": "Python 3 (ipykernel)",
   "language": "python",
   "name": "python3"
  },
  "language_info": {
   "codemirror_mode": {
    "name": "ipython",
    "version": 3
   },
   "file_extension": ".py",
   "mimetype": "text/x-python",
   "name": "python",
   "nbconvert_exporter": "python",
   "pygments_lexer": "ipython3",
   "version": "3.11.3"
  }
 },
 "nbformat": 4,
 "nbformat_minor": 5
}
